{
 "cells": [
  {
   "cell_type": "markdown",
   "source": [
    "<img src=\"https://bit.ly/2VnXWr2\" width=\"100\" align=\"left\">"
   ],
   "metadata": {}
  },
  {
   "cell_type": "markdown",
   "source": [
    "# Rock, Paper & Scissors\r\n",
    "\r\n",
    "Let's play the famous game against our computer. You can check the rules [here](https://en.wikipedia.org/wiki/Rock%E2%80%93paper%E2%80%93scissors). \r\n",
    "\r\n",
    "## Task\r\n",
    "Create a program that imitates the playability of the well known game of rock, paper, scissors. Follow the guidelines provided.\r\n",
    "\r\n",
    "## Tools\r\n",
    "1. Loop: **for/while**\r\n",
    "2. Functions: **input(), print()...**\r\n",
    "3. Conditional statements: **if, elif, else**\r\n",
    "4. Definition of functions. Modular programming\r\n",
    "5. Import modules\r\n",
    "\r\n",
    "**To solve this challenge, the use of functions is recommended.**\r\n",
    "\r\n",
    "#### 1. Import the choice function of the random module."
   ],
   "metadata": {}
  },
  {
   "cell_type": "code",
   "execution_count": 9,
   "source": [
    "import random"
   ],
   "outputs": [],
   "metadata": {}
  },
  {
   "cell_type": "markdown",
   "source": [
    "#### 2. Create a list that includes the 3 possible gesture options of the game: 'rock', 'paper' or 'scissors'. Store the list in a variable called `gestures`."
   ],
   "metadata": {}
  },
  {
   "cell_type": "code",
   "execution_count": 10,
   "source": [
    "gestures = input(\"Enter a choice (rock, paper, scissors): \")"
   ],
   "outputs": [],
   "metadata": {}
  },
  {
   "cell_type": "markdown",
   "source": [
    "#### 3. Create a variable called `n_rounds` to store the maximum number of rounds to play in a game. \r\n",
    "Remember that the number of rounds must be odd: 1, 3, 5, ..."
   ],
   "metadata": {}
  },
  {
   "cell_type": "code",
   "execution_count": null,
   "source": [
    "n_rounds = 0\r\n",
    "def gestures:\r\n",
    "    global n_rounds\r\n",
    "   n_rounds += 1\r\n",
    "\r\n",
    "input.gestures(input(\"Enter a choice (rock, paper, scissors): \"))\r\n",
    "\r\n"
   ],
   "outputs": [
    {
     "output_type": "error",
     "ename": "SyntaxError",
     "evalue": "invalid syntax (Temp/ipykernel_12112/1353654300.py, line 2)",
     "traceback": [
      "\u001b[1;36m  File \u001b[1;32m\"C:\\Users\\PACOAL~1\\AppData\\Local\\Temp/ipykernel_12112/1353654300.py\"\u001b[1;36m, line \u001b[1;32m2\u001b[0m\n\u001b[1;33m    def on_gestures:\u001b[0m\n\u001b[1;37m                   ^\u001b[0m\n\u001b[1;31mSyntaxError\u001b[0m\u001b[1;31m:\u001b[0m invalid syntax\n"
     ]
    }
   ],
   "metadata": {}
  },
  {
   "cell_type": "markdown",
   "source": [
    "#### 4. Create a variable called `rounds_to_win` to store the number of rounds that a player must win to win the game.\r\n",
    "**Hint**: the value stored in `rounds_to_win` depends on the value of `n_rounds`. "
   ],
   "metadata": {}
  },
  {
   "cell_type": "code",
   "execution_count": null,
   "source": [
    "round = 1\r\n",
    "election_possible = \"None\"\r\n",
    "\r\n",
    "total_games = 1\r\n",
    "exit = 0\r\n",
    "\r\n",
    "while user_win < games_number and mach_win < games_number:\r\n",
    "\r\n",
    "    while election_possible == \"None\":\r\n",
    "\r\n",
    "        election = ask_user(int(option_game),round) # si no es int donava error\r\n",
    "\r\n",
    "        try:\r\n",
    "            election_possible = str(game_options.get(int(election)))\r\n",
    "\r\n",
    "            if int(election) == 0 or int(election) > total_var:\r\n",
    "                print(\"\\nPLEASE ENTER A VALID NUMBER\")\r\n",
    "                election_possible = \"None\"\r\n",
    "        except:\r\n",
    "            if str(election) == \"Q\" or str(election) == \"q\":\r\n",
    "                exit = 1\r\n",
    "                break\r\n",
    "            print(\"\\nPLEASE ENTER A VALID NUMBER\")\r\n",
    "            election_possible = \"None\"\r\n",
    "\r\n",
    "    if exit == 1:\r\n",
    "        break\r\n",
    "    election_machine = machine_choice(option_game)\r\n",
    "    print(\"\\nUser's choice: %s\\t\\tMachine's choice: %s\" % (game_options[int(election)].upper(), game_options[int(election_machine)].upper()))\r\n",
    " \r\n",
    "\r\n"
   ],
   "outputs": [],
   "metadata": {}
  },
  {
   "cell_type": "markdown",
   "source": [
    "#### 5. Create two variables to store the number of rounds that the computer and the player have won. Call these variables `cpu_score` and `player_score`."
   ],
   "metadata": {}
  },
  {
   "cell_type": "code",
   "execution_count": null,
   "source": [],
   "outputs": [],
   "metadata": {}
  },
  {
   "cell_type": "markdown",
   "source": [
    "#### 6. Define a function that randomly returns one of the 3 gesture options.\n",
    "You will use this function to simulate the gesture choice of the computer. "
   ],
   "metadata": {}
  },
  {
   "cell_type": "code",
   "execution_count": null,
   "source": [
    "ROCK_ACTION = 0\r\n",
    "PAPER_ACTION = 1\r\n",
    "SCISSORS_ACTION = 2"
   ],
   "outputs": [],
   "metadata": {}
  },
  {
   "cell_type": "markdown",
   "source": [
    "#### 7. Define a function that asks the player which is the gesture he or she wants to show: 'rock', 'paper' or 'scissors'.\n",
    "The player should only be allowed to choose one of the 3 gesture options. If the player's choice is not rock, paper or scissors, keep asking until it is."
   ],
   "metadata": {}
  },
  {
   "cell_type": "code",
   "execution_count": null,
   "source": [
    "def get_user_selection():\r\n",
    "    user_input = input(\"Enter a choice (rock[0], paper[1], scissors[2]): \")\r\n",
    "    selection = int(user_input)\r\n",
    "    action = Action(selection)\r\n",
    "    return action"
   ],
   "outputs": [],
   "metadata": {}
  },
  {
   "cell_type": "markdown",
   "source": [
    "#### 8. Define a function that checks who won a round. \n",
    "The function should return 0 if there is a tie, 1 if the computer wins and 2 if the player wins."
   ],
   "metadata": {}
  },
  {
   "cell_type": "code",
   "execution_count": null,
   "source": [
    "def ask_user(num,round):\r\n",
    "\r\n",
    "    print(\"\\n-------------------------------------------------\")\r\n",
    "    print(\"\\nROUND %d\" % round)\r\n",
    "\r\n",
    "    print(\"\\n\\n**** press Q to quit the game ****\")\r\n",
    "    if num == 1:\r\n",
    "        print(\"\\n\\t\\t1 - Stone\\n\\t\\t2 - Paper\\n\\t\\t3 - Scissors\")\r\n",
    "\r\n",
    "        return input(\"\\n\\t\\tSelect an  option: \")\r\n",
    "\r\n",
    "    if num == 2:\r\n",
    "        (print(\"\\n\\t\\t1 - Stone\\n\\t\\t2 - Paper\\n\\t\\t3 - Scissors\\n\\t\\t4 - Lizard\\n\\t\\t5 - Spock\"))\r\n",
    "\r\n",
    "        return input(\"\\n\\t\\tSelect an option: \")\r\n",
    "\r\n",
    "def machine_choice(num):\r\n",
    "\r\n",
    "    if num == 1:\r\n",
    "        return random.randint(1, 3)\r\n",
    "    else:\r\n",
    "        return random.randint(1,5)\r\n",
    "\r\n",
    "\r\n",
    "def compare(user,machine,num):\r\n",
    "\r\n",
    "     while user == 1:\r\n",
    "        if machine == 1:\r\n",
    "            # 0 = Draw, # 1 = Win # 2 = Loose\r\n",
    "            return (0)\r\n",
    "        if machine == 2:\r\n",
    "            return (2)\r\n",
    "        if machine == 3:\r\n",
    "            return (1)\r\n",
    "        if num == 2:\r\n",
    "            if machine == 4:\r\n",
    "                return (1)\r\n",
    "            else:\r\n",
    "                return (2)\r\n",
    "     while user == 2:\r\n",
    "        if machine == 1:\r\n",
    "            # 0 = Draw, # 1 = Win # 2 = Loose\r\n",
    "            return (1)\r\n",
    "        if machine == 2:\r\n",
    "            return (0)\r\n",
    "        if machine == 3:\r\n",
    "            return (2)\r\n",
    "        if num == 2:\r\n",
    "            if machine == 4:\r\n",
    "                return (2)\r\n",
    "            else:\r\n",
    "                return (1)\r\n",
    "     while user == 3:\r\n",
    "        if machine == 1:\r\n",
    "            # 0 = Draw, # 1 = Win # 2 = Loose\r\n",
    "            return (2)\r\n",
    "        if machine == 2:\r\n",
    "            return (1)\r\n",
    "        if machine == 3:\r\n",
    "            return (0)\r\n",
    "        if num == 2:\r\n",
    "            if machine == 4:\r\n",
    "                return (1)\r\n",
    "            else:\r\n",
    "                return (2)\r\n",
    "     while user == 4:\r\n",
    "        if machine == 1:\r\n",
    "            # 0 = Draw, # 1 = Win # 2 = Loose\r\n",
    "            return (2)\r\n",
    "        if machine == 2:\r\n",
    "            return (1)\r\n",
    "        if machine == 3:\r\n",
    "            return (2)\r\n",
    "        if num == 2:\r\n",
    "            if machine == 4:\r\n",
    "                return (0)\r\n",
    "            else:\r\n",
    "                return (1)\r\n",
    "     while user == 5:\r\n",
    "        if machine == 1:\r\n",
    "            # 0 = Draw, # 1 = Win # 2 = Loose\r\n",
    "            return (1)\r\n",
    "        if machine == 2:\r\n",
    "            return (2)\r\n",
    "        if machine == 3:\r\n",
    "            return (1)\r\n",
    "        if num == 2:\r\n",
    "            if machine == 4:\r\n",
    "                return (2)\r\n",
    "            else:\r\n",
    "                return (0)"
   ],
   "outputs": [],
   "metadata": {}
  },
  {
   "cell_type": "code",
   "execution_count": null,
   "source": [],
   "outputs": [],
   "metadata": {}
  },
  {
   "cell_type": "markdown",
   "source": [
    "#### 9. Define a function that prints the choice of the computer, the choice of the player and a message that announces who won the current round. \n",
    "You should also use this function to update the variables that count the number of rounds that the computer and the player have won. The score of the winner increases by one point. If there is a tie, the score does not increase."
   ],
   "metadata": {}
  },
  {
   "cell_type": "code",
   "execution_count": null,
   "source": [
    "def get_computer_selection():\r\n",
    "    selection = random.randint(0, len(Action) - 1)\r\n",
    "    action = Action(selection)\r\n",
    "    return action"
   ],
   "outputs": [],
   "metadata": {}
  },
  {
   "cell_type": "markdown",
   "source": [
    "#### 10. Now it's time to code the execution of the game using the functions and variables you defined above. \n",
    "\n",
    "First, create a loop structure that repeats while no player reaches the minimum score necessary to win and the number of rounds is less than the maximum number of rounds to play in a game.  \n",
    "\n",
    "Inside the loop, use the functions and variables above to create the execution of a round: ask for the player's choice, generate the random choice of the computer, show the round results, update the scores, etc. "
   ],
   "metadata": {}
  },
  {
   "cell_type": "code",
   "execution_count": null,
   "source": [
    "if user_action == computer_action:\r\n",
    "    print(f\"Both players selected {user_action}. It's a tie!\")\r\n",
    "elif user_action == \"rock\":\r\n",
    "    if computer_action == \"scissors\":\r\n",
    "        print(\"Rock smashes scissors! You win!\")\r\n",
    "    else:\r\n",
    "        print(\"Paper covers rock! You lose.\")\r\n",
    "elif user_action == \"paper\":\r\n",
    "    if computer_action == \"rock\":\r\n",
    "        print(\"Paper covers rock! You win!\")\r\n",
    "    else:\r\n",
    "        print(\"Scissors cuts paper! You lose.\")\r\n",
    "elif user_action == \"scissors\":\r\n",
    "    if computer_action == \"paper\":\r\n",
    "        print(\"Scissors cuts paper! You win!\")\r\n",
    "    else:\r\n",
    "        print(\"Rock smashes scissors! You lose.\")"
   ],
   "outputs": [],
   "metadata": {}
  },
  {
   "cell_type": "markdown",
   "source": [
    "#### 11. Print the winner of the game based on who won more rounds.\n",
    "Remember that the game might be tied. "
   ],
   "metadata": {}
  },
  {
   "cell_type": "code",
   "execution_count": null,
   "source": [],
   "outputs": [],
   "metadata": {}
  },
  {
   "cell_type": "markdown",
   "source": [
    "# Bonus: Rock, Paper, Scissors, Lizard & Spock\n",
    "![](images/rpsls.jpg)\n",
    "\n",
    "In this challenge, you need to improve the previous game by adding two new options. To know more about the rules of the improved version of rock, paper, scissors, check this [link](http://www.samkass.com/theories/RPSSL.html). \n",
    "\n",
    "In addition, you will also need to improve how the game interacts with the player: the number of rounds to play, which must be an odd number, will be requested to the user until a valid number is entered. Define a new function to make that request.\n",
    "\n",
    "**Hint**: Try to reuse the code that you already coded in the previous challenge. If your code is efficient, this bonus will only consist of simple modifications to the original game."
   ],
   "metadata": {}
  },
  {
   "cell_type": "code",
   "execution_count": null,
   "source": [
    "   if num == 2:\r\n",
    "        (print(\"\\n\\t\\t1 - rock\\n\\t\\t2 - Paper\\n\\t\\t3 - Scissors\\n\\t\\t4 - Lizard\\n\\t\\t5 - Spock\"))\r\n",
    "\r\n",
    "        return input(\"\\n\\t\\tSelect an option: \")"
   ],
   "outputs": [],
   "metadata": {}
  }
 ],
 "metadata": {
  "kernelspec": {
   "name": "python3",
   "display_name": "Python 3.9.6 64-bit"
  },
  "language_info": {
   "codemirror_mode": {
    "name": "ipython",
    "version": 3
   },
   "file_extension": ".py",
   "mimetype": "text/x-python",
   "name": "python",
   "nbconvert_exporter": "python",
   "pygments_lexer": "ipython3",
   "version": "3.9.6"
  },
  "interpreter": {
   "hash": "30c299313908f426d1ad61fcc8500cf4ed571b60ba5f9cf2ce42d78cded033c1"
  }
 },
 "nbformat": 4,
 "nbformat_minor": 2
}