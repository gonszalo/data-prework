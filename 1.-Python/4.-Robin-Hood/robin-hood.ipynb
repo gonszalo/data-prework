{
 "cells": [
  {
   "cell_type": "markdown",
   "source": [
    "<img src=\"https://bit.ly/2VnXWr2\" width=\"100\" align=\"left\"/>"
   ],
   "metadata": {}
  },
  {
   "cell_type": "markdown",
   "source": [
    "# Robin Hood\n",
    "Robin Hood has entered a competition to win the archery contest in Sherwood. With his bow and arrows, he needs to shoot on a target and try to hit as close as possible to the center.\n",
    "\n",
    "![](images/arrows.jpg)\n",
    "\n",
    "## Context\n",
    "In this challenge, the landing position of arrows shot by archers in the competition will be represented using 2-dimensional coordinates. \n",
    "\n",
    "In the 2-dimensional space, a point can be defined by a pair of values that correspond to the horizontal coordinate (x) and the vertical coordinate (y). For example, in our case, an arrow that hits the center of the archery target will land in position (0, 0) on the coordinate axes. \n",
    "\n",
    "The space can be divided into 4 zones (quadrants): Q1, Q2, Q3, Q4. If a point is in Q1, both its x coordinate and y coordinate are positive. Any point with a null x or y coordinate is considered to not belong to any quadrant. \n",
    "\n",
    "If you want to know more about the cartesian coordinate system, you can check this [link](https://en.wikipedia.org/wiki/Cartesian_coordinate_system). \n",
    "\n",
    "## Tools\n",
    "You don't necessarily need to use all the tools. Maybe you opt to use some of them or completely different ones, they are given to help you shape the exercise. Programming exercises can be solved in many different ways.\n",
    "* Data structures: **lists, sets, tuples**\n",
    "* Conditional statements: **if-elif-else**\n",
    "* Loop: **while/for**\n",
    "* Minimum (optional sorting)\n",
    "\n",
    "## Tasks\n",
    "Robin Hood has hit the following points:"
   ],
   "metadata": {}
  },
  {
   "cell_type": "code",
   "execution_count": 5,
   "source": [
    "points = [(4, 5), (-0, 2), (4, 7), (1, -3), (3, -2), (4, 5), (3, 2), (5, 7), (-5, 7), (2, 2), (-4, 5), (0, -2),\r\n",
    "          (-4, 7), (-1, 3), (-3, 2), (-4, -5), (-3, 2), (5, 7), (5, 7), (2, 2), (9, 9), (-8, -9)]"
   ],
   "outputs": [],
   "metadata": {}
  },
  {
   "cell_type": "markdown",
   "source": [
    "#### 1. Robin Hood is famous for hitting an arrow with another arrow. Find the coordinates of the points where an arrow hits another arrow."
   ],
   "metadata": {}
  },
  {
   "cell_type": "code",
   "execution_count": 6,
   "source": [
    "arrow_hits = 0\r\n",
    "\r\n",
    "points_set = set()\r\n",
    "diferent_values = 0\r\n",
    "# print(type(points_set))\r\n",
    "\r\n",
    "for i in points:\r\n",
    "    points_set.update({i})\r\n",
    "\r\n",
    "repeats = []\r\n",
    "pos = 0\r\n",
    "for i in points_set:\r\n",
    "    var = points.count(i)\r\n",
    "    repeats.append(var)\r\n",
    "\r\n",
    "points_set = list(points_set)\r\n",
    "\r\n",
    "arrow_hits = len(points)-len(points_set)"
   ],
   "outputs": [],
   "metadata": {}
  },
  {
   "cell_type": "markdown",
   "source": [
    "#### 2. Calculate how many arrows have fallen in each quadrant. \n",
    "**Note**: the arrows that fall in the axis (x=0 or y=0) don't belong to any quadrant."
   ],
   "metadata": {}
  },
  {
   "cell_type": "code",
   "execution_count": 7,
   "source": [
    "Q1 = 0\r\n",
    "Q2 = 0\r\n",
    "Q3 = 0\r\n",
    "Q4 = 0\r\n",
    "X_axis = 0\r\n",
    "Y_axis = 0\r\n",
    "\r\n",
    "for i in points:\r\n",
    "    if i[0] > 0 and i[1] > 0:\r\n",
    "        Q1 = Q1 +1\r\n",
    "    elif i[0] < 0 and i[1] > 0:\r\n",
    "        Q2 = Q2 +1\r\n",
    "    elif i[0] < 0 and i[1] < 0:\r\n",
    "        Q3 = Q3 +1\r\n",
    "    elif i[0] > 0 and i[1] < 0:\r\n",
    "        Q4 = Q4 +1\r\n",
    "    elif i[0] == 0:\r\n",
    "        X_axis += 1\r\n",
    "    else:\r\n",
    "        Y_axis += 1"
   ],
   "outputs": [],
   "metadata": {}
  },
  {
   "cell_type": "markdown",
   "source": [
    "#### 3. Find the point closest to the center. Calculate its distance to the center. \n",
    "Take into account that there might be more than one point at the minimum distance to the center.\n",
    "\n",
    "**Hint**: Use the Euclidean distance. You can find more information about it [here](https://en.wikipedia.org/wiki/Euclidean_distance).  \n",
    "**Hint**: Defining a function that calculates the distance to the center can help."
   ],
   "metadata": {}
  },
  {
   "cell_type": "code",
   "execution_count": 8,
   "source": [
    "distances = []\r\n",
    "\r\n",
    "i = 0\r\n",
    "import math\r\n",
    "while i < len(points):\r\n",
    "\r\n",
    "    a = math.sqrt(math.pow(points[i][0],2) + math.pow(points[i][1],2))\r\n",
    "    distances.append(a)\r\n",
    "    i += 1\r\n",
    "\r\n",
    "print(\"\\nRobin hit/s an arrow %s times.\" % arrow_hits)\r\n",
    "\r\n",
    "\r\n",
    "print(\"\\nThe distribution of the arrows is:\")\r\n",
    "print(\"\\n\\t - %d arrows in the Q1\" % Q1)\r\n",
    "print(\"\\t - %d arrows in the Q2\" % Q2)\r\n",
    "print(\"\\t - %d arrows in the Q3\" % Q3)\r\n",
    "print(\"\\t - %d arrows in the Q4\" % Q4)\r\n",
    "print(\"\\t - %d arrows in the X axis\" % X_axis)\r\n",
    "print(\"\\t - %d arrows in the Y axis\\n\" % Y_axis)\r\n",
    "\r\n",
    "\r\n",
    "get_min_distance = min(distances)\r\n",
    "count_min = 0\r\n",
    "count_max = 0\r\n",
    "store_min_pos = []\r\n",
    "count_position = 0\r\n",
    "\r\n",
    "for i in distances:\r\n",
    "\r\n",
    "    if get_min_distance == i:\r\n",
    "        store_min_pos.append(count_position)\r\n",
    "        count_min += 1\r\n",
    "    elif i > 9:\r\n",
    "        count_max += 1\r\n",
    "    count_position += 1"
   ],
   "outputs": [
    {
     "output_type": "stream",
     "name": "stdout",
     "text": [
      "\n",
      "Robin hit/s an arrow 5 times.\n",
      "\n",
      "The distribution of the arrows is:\n",
      "\n",
      "\t - 10 arrows in the Q1\n",
      "\t - 6 arrows in the Q2\n",
      "\t - 2 arrows in the Q3\n",
      "\t - 2 arrows in the Q4\n",
      "\t - 2 arrows in the X axis\n",
      "\t - 0 arrows in the Y axis\n",
      "\n"
     ]
    }
   ],
   "metadata": {}
  },
  {
   "cell_type": "markdown",
   "source": [
    "#### 4. If the archery target has a radius of 9, calculate the number of arrows that won't hit the target. \n",
    "**Hint**: Use the function created in step 3. "
   ],
   "metadata": {}
  },
  {
   "cell_type": "code",
   "execution_count": 9,
   "source": [
    "arrow = []\r\n",
    "\r\n",
    "print(\"The smallest distance to the center is %d\" % min(distances))\r\n",
    "for i in store_min_pos:\r\n",
    "        arrow.append(str(points[i]))\r\n",
    "if count_min == 1:\r\n",
    "    print(\"The arrow with the values %s is the closest to the center.\" % arrow)\r\n",
    "else:\r\n",
    "    print(\"The arrows closest are the ones with values %s\" % arrow)\r\n",
    "if count_max > 1:\r\n",
    "    print(\"There are %d arrows on the ground\" % count_max)\r\n",
    "elif count_max == 0:\r\n",
    "    print(\"There are no arrows on the ground\")\r\n",
    "else:\r\n",
    "    print(\"There is just one arrow on the ground\")"
   ],
   "outputs": [
    {
     "output_type": "stream",
     "name": "stdout",
     "text": [
      "The smallest distance to the center is 2\n",
      "The arrows closest are the ones with values ['(0, 2)', '(0, -2)']\n",
      "There are 2 arrows on the ground\n"
     ]
    }
   ],
   "metadata": {}
  }
 ],
 "metadata": {
  "kernelspec": {
   "name": "python3",
   "display_name": "Python 3.9.6 64-bit"
  },
  "language_info": {
   "codemirror_mode": {
    "name": "ipython",
    "version": 3
   },
   "file_extension": ".py",
   "mimetype": "text/x-python",
   "name": "python",
   "nbconvert_exporter": "python",
   "pygments_lexer": "ipython3",
   "version": "3.9.6"
  },
  "interpreter": {
   "hash": "30c299313908f426d1ad61fcc8500cf4ed571b60ba5f9cf2ce42d78cded033c1"
  }
 },
 "nbformat": 4,
 "nbformat_minor": 2
}